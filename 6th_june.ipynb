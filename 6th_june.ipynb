{
  "nbformat": 4,
  "nbformat_minor": 0,
  "metadata": {
    "colab": {
      "provenance": [],
      "authorship_tag": "ABX9TyNPKMohGTBupVDBSoAEg2Yu",
      "include_colab_link": true
    },
    "kernelspec": {
      "name": "python3",
      "display_name": "Python 3"
    },
    "language_info": {
      "name": "python"
    }
  },
  "cells": [
    {
      "cell_type": "markdown",
      "metadata": {
        "id": "view-in-github",
        "colab_type": "text"
      },
      "source": [
        "<a href=\"https://colab.research.google.com/github/saketh257/POWERPYTHON/blob/main/6th_june.ipynb\" target=\"_parent\"><img src=\"https://colab.research.google.com/assets/colab-badge.svg\" alt=\"Open In Colab\"/></a>"
      ]
    },
    {
      "cell_type": "code",
      "execution_count": null,
      "metadata": {
        "id": "igrvQER1YlmG"
      },
      "outputs": [],
      "source": [
        "#variable and print\n",
        "name= input(\"enter your name: \")\n",
        "print(name)"
      ]
    },
    {
      "cell_type": "code",
      "source": [
        "#func to find maximum\n",
        "def max_of_three(x, y, z):\n",
        "      if x > y and x > z:\n",
        "        return x\n",
        "      elif y > x and y > z:\n",
        "         return y\n",
        "      else:\n",
        "         return z\n",
        "\n",
        "print(max_of_three(5, 6, 3))"
      ],
      "metadata": {
        "id": "qYmU3kXHZAdM"
      },
      "execution_count": null,
      "outputs": []
    },
    {
      "cell_type": "code",
      "source": [
        "#default argument\n",
        "def greeting(name=\"saketh\"):\n",
        "  print(name + \"!\")\n",
        "\n",
        "greeting()"
      ],
      "metadata": {
        "id": "CsJjawxqZUTM"
      },
      "execution_count": null,
      "outputs": []
    },
    {
      "cell_type": "code",
      "source": [
        "#keyword arguments\n",
        "def info(name, age,**kwargs ):\n",
        "  print(f\"name: {name}, age: {age}\")\n",
        "  for key, value in kwargs.items():\n",
        "    print(f\"{key}: {value}\")\n",
        "info(\"saketh\", 20, city=\"khmm\", job=\"student\")"
      ],
      "metadata": {
        "id": "lDUr-XohZt4U"
      },
      "execution_count": null,
      "outputs": []
    },
    {
      "cell_type": "code",
      "source": [
        "#lambda function\n",
        "add = lambda x,y: x+y\n",
        "print(add(10,5))"
      ],
      "metadata": {
        "id": "ow47uSmvaAsV"
      },
      "execution_count": null,
      "outputs": []
    },
    {
      "cell_type": "code",
      "source": [
        "#nested function\n",
        "def outer_function(x):\n",
        "  def inner_fuction(y):\n",
        "    return y*4\n",
        "    return inner_function(x)\n",
        "result = outer_function(9)\n",
        "print(result)"
      ],
      "metadata": {
        "id": "VutRfi6DbFT0"
      },
      "execution_count": null,
      "outputs": []
    },
    {
      "cell_type": "code",
      "source": [
        "#average\n",
        "def analyze_list(numbers):\n",
        "  min_value = min(numbers)\n",
        "  max_value = max(numbers)\n",
        "  average_value = sum(numbers) / len(numbers)\n",
        "  stat={\n",
        "      \"min\": min_value,\n",
        "      \"max\": max_value,\n",
        "      \"average\": average_value\n",
        "  }\n",
        "  return stat\n",
        "number = [1,2,3,4,5,6,7]\n",
        "result = analyze_list(number)\n",
        "print(result)"
      ],
      "metadata": {
        "id": "m1zkB5t5bu8T"
      },
      "execution_count": null,
      "outputs": []
    },
    {
      "cell_type": "code",
      "source": [
        "#\"Function for the reversal of words by maintaing the order\"\n",
        "def rev(x):\n",
        "  a=x.split()\n",
        "  b=[i[::-1] for i in a]\n",
        "  print(\" \".join(b))\n",
        "rev(\"hello hi\")"
      ],
      "metadata": {
        "id": "bYKsEdkXckIa"
      },
      "execution_count": null,
      "outputs": []
    }
  ]
}